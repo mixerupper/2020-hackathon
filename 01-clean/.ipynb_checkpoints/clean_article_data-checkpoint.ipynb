{
 "cells": [
  {
   "cell_type": "code",
   "execution_count": 1,
   "metadata": {},
   "outputs": [],
   "source": [
    "import numpy as np\n",
    "import pandas as pd\n",
    "import matplotlib.pyplot as plt\n",
    "import math as math\n",
    "import sklearn\n",
    "import os\n",
    "import sys\n",
    "\n",
    "from sklearn.preprocessing import *\n",
    "from sklearn.impute import SimpleImputer\n",
    "\n",
    "nb_dir = os.path.split(os.getcwd())[0]\n",
    "if nb_dir not in sys.path:\n",
    "    sys.path.append(nb_dir)\n",
    "from header import *"
   ]
  },
  {
   "cell_type": "code",
   "execution_count": 2,
   "metadata": {},
   "outputs": [],
   "source": [
    "data_root = initialize_data_root(\"AY\")"
   ]
  },
  {
   "cell_type": "code",
   "execution_count": 4,
   "metadata": {},
   "outputs": [],
   "source": [
    "raw_content = pd.read_csv(data_root+'content.csv')"
   ]
  },
  {
   "cell_type": "code",
   "execution_count": 5,
   "metadata": {},
   "outputs": [
    {
     "data": {
      "text/html": [
       "<div>\n",
       "<style scoped>\n",
       "    .dataframe tbody tr th:only-of-type {\n",
       "        vertical-align: middle;\n",
       "    }\n",
       "\n",
       "    .dataframe tbody tr th {\n",
       "        vertical-align: top;\n",
       "    }\n",
       "\n",
       "    .dataframe thead th {\n",
       "        text-align: right;\n",
       "    }\n",
       "</style>\n",
       "<table border=\"1\" class=\"dataframe\">\n",
       "  <thead>\n",
       "    <tr style=\"text-align: right;\">\n",
       "      <th></th>\n",
       "      <th>url</th>\n",
       "      <th>entry_type</th>\n",
       "      <th>title</th>\n",
       "      <th>article_content</th>\n",
       "      <th>meta_title</th>\n",
       "      <th>meta_description</th>\n",
       "      <th>meta_keywords</th>\n",
       "    </tr>\n",
       "  </thead>\n",
       "  <tbody>\n",
       "    <tr>\n",
       "      <th>0</th>\n",
       "      <td>/g26ftzdilh/bfunderstanding-dyslexia</td>\n",
       "      <td>Deep Dive Article</td>\n",
       "      <td>Understanding Dyslexia</td>\n",
       "      <td>Raising a child with dyslexia can stir up a lo...</td>\n",
       "      <td>Understanding Dyslexia in Children | Dyslexia ...</td>\n",
       "      <td>Have you asked yourself what is dyslexia? Lear...</td>\n",
       "      <td>dyslexia, what is dyslexia, signs of dyslexia,...</td>\n",
       "    </tr>\n",
       "    <tr>\n",
       "      <th>1</th>\n",
       "      <td>/g26ftzdilh/blazingly-fast-understanding-dyslexia</td>\n",
       "      <td>Deep Dive Article</td>\n",
       "      <td>Blazingly Fast Understanding Dyslexia</td>\n",
       "      <td>Raising a child with dyslexia can stir up a lo...</td>\n",
       "      <td>Entender la dislexia | ¿Qué es la discapacidad...</td>\n",
       "      <td>La dislexia es una condición real del cerebro ...</td>\n",
       "      <td>Definición de la dislexia, qué es la dislexia,...</td>\n",
       "    </tr>\n",
       "    <tr>\n",
       "      <th>2</th>\n",
       "      <td>/learning-attention-issues/getting-started/wha...</td>\n",
       "      <td>Deep Dive Article</td>\n",
       "      <td>Awareness Month 2018: Supporting the 1 in 5</td>\n",
       "      <td>When it comes to learning and attention issues...</td>\n",
       "      <td>Awareness Month 2018: Supporting the 1 in 5</td>\n",
       "      <td>Understood is celebrating ADHD and learning di...</td>\n",
       "      <td>learning disability awareness, adhd awareness,...</td>\n",
       "    </tr>\n",
       "    <tr>\n",
       "      <th>3</th>\n",
       "      <td>/learning-attention-issues/getting-started/wha...</td>\n",
       "      <td>Deep Dive Article</td>\n",
       "      <td>Helping Your Child, and You, #BeUnderstood</td>\n",
       "      <td>October is Learning Disabilities, ADHD, and Dy...</td>\n",
       "      <td>Helping Your Child, and You, #BeUnderstood</td>\n",
       "      <td>When kids with learning and attention issues a...</td>\n",
       "      <td>BeUnderstood, #BeUnderstood, Be Understood, Un...</td>\n",
       "    </tr>\n",
       "    <tr>\n",
       "      <th>4</th>\n",
       "      <td>/learning-attention-issues/child-learning-disa...</td>\n",
       "      <td>Deep Dive Article</td>\n",
       "      <td>Understanding ADHD</td>\n",
       "      <td>What is ADHD? ADHD is a common condition that ...</td>\n",
       "      <td>What Is ADHD</td>\n",
       "      <td>What is ADHD, and how does it affect kids? Use...</td>\n",
       "      <td>adhd, add, what is adhd, whats adhd, define ad...</td>\n",
       "    </tr>\n",
       "  </tbody>\n",
       "</table>\n",
       "</div>"
      ],
      "text/plain": [
       "                                                 url         entry_type  \\\n",
       "0               /g26ftzdilh/bfunderstanding-dyslexia  Deep Dive Article   \n",
       "1  /g26ftzdilh/blazingly-fast-understanding-dyslexia  Deep Dive Article   \n",
       "2  /learning-attention-issues/getting-started/wha...  Deep Dive Article   \n",
       "3  /learning-attention-issues/getting-started/wha...  Deep Dive Article   \n",
       "4  /learning-attention-issues/child-learning-disa...  Deep Dive Article   \n",
       "\n",
       "                                         title  \\\n",
       "0                       Understanding Dyslexia   \n",
       "1        Blazingly Fast Understanding Dyslexia   \n",
       "2  Awareness Month 2018: Supporting the 1 in 5   \n",
       "3   Helping Your Child, and You, #BeUnderstood   \n",
       "4                           Understanding ADHD   \n",
       "\n",
       "                                     article_content  \\\n",
       "0  Raising a child with dyslexia can stir up a lo...   \n",
       "1  Raising a child with dyslexia can stir up a lo...   \n",
       "2  When it comes to learning and attention issues...   \n",
       "3  October is Learning Disabilities, ADHD, and Dy...   \n",
       "4  What is ADHD? ADHD is a common condition that ...   \n",
       "\n",
       "                                          meta_title  \\\n",
       "0  Understanding Dyslexia in Children | Dyslexia ...   \n",
       "1  Entender la dislexia | ¿Qué es la discapacidad...   \n",
       "2        Awareness Month 2018: Supporting the 1 in 5   \n",
       "3         Helping Your Child, and You, #BeUnderstood   \n",
       "4                                       What Is ADHD   \n",
       "\n",
       "                                    meta_description  \\\n",
       "0  Have you asked yourself what is dyslexia? Lear...   \n",
       "1  La dislexia es una condición real del cerebro ...   \n",
       "2  Understood is celebrating ADHD and learning di...   \n",
       "3  When kids with learning and attention issues a...   \n",
       "4  What is ADHD, and how does it affect kids? Use...   \n",
       "\n",
       "                                       meta_keywords  \n",
       "0  dyslexia, what is dyslexia, signs of dyslexia,...  \n",
       "1  Definición de la dislexia, qué es la dislexia,...  \n",
       "2  learning disability awareness, adhd awareness,...  \n",
       "3  BeUnderstood, #BeUnderstood, Be Understood, Un...  \n",
       "4  adhd, add, what is adhd, whats adhd, define ad...  "
      ]
     },
     "execution_count": 5,
     "metadata": {},
     "output_type": "execute_result"
    }
   ],
   "source": [
    "raw_content"
   ]
  },
  {
   "cell_type": "code",
   "execution_count": 61,
   "metadata": {},
   "outputs": [],
   "source": [
    "raw_census_numeric = raw_census.loc[:,\"DIFF_FROM_US_MEAN_INCOME\":]"
   ]
  },
  {
   "cell_type": "code",
   "execution_count": 64,
   "metadata": {},
   "outputs": [],
   "source": [
    "census_numeric = raw_census_numeric.replace('\\\\\\\\N',np.nan)\n",
    "imp_mean = SimpleImputer(missing_values=np.nan, strategy='mean')\n",
    "imp_mean.fit(census_numeric)\n",
    "census_numeric = imp_mean.transform(census_numeric)"
   ]
  },
  {
   "cell_type": "code",
   "execution_count": 67,
   "metadata": {},
   "outputs": [],
   "source": [
    "scaler = StandardScaler()\n",
    "\n",
    "census_numeric = scaler.fit_transform(census_numeric)"
   ]
  },
  {
   "cell_type": "code",
   "execution_count": 69,
   "metadata": {},
   "outputs": [],
   "source": [
    "census = raw_census\n",
    "census.loc[:,\"DIFF_FROM_US_MEAN_INCOME\":] = census_numeric"
   ]
  },
  {
   "cell_type": "code",
   "execution_count": 73,
   "metadata": {},
   "outputs": [],
   "source": [
    "census.to_csv(data_root+'census_data_cleaned.csv', index = False)"
   ]
  }
 ],
 "metadata": {
  "kernelspec": {
   "display_name": "Python 3",
   "language": "python",
   "name": "python3"
  },
  "language_info": {
   "codemirror_mode": {
    "name": "ipython",
    "version": 3
   },
   "file_extension": ".py",
   "mimetype": "text/x-python",
   "name": "python",
   "nbconvert_exporter": "python",
   "pygments_lexer": "ipython3",
   "version": "3.7.3"
  }
 },
 "nbformat": 4,
 "nbformat_minor": 2
}
