{
 "cells": [
  {
   "cell_type": "code",
   "execution_count": 3,
   "metadata": {},
   "outputs": [],
   "source": [
    "import pandas as pd\n",
    "import numpy as np\n",
    "import matplotlib.pyplot as plt\n",
    "from tqdm import tqdm\n",
    "\n",
    "from recommendation import AbstractRecommender\n",
    "\n",
    "%matplotlib inline"
   ]
  },
  {
   "cell_type": "code",
   "execution_count": 2,
   "metadata": {},
   "outputs": [
    {
     "name": "stderr",
     "output_type": "stream",
     "text": [
      "b'Skipping line 1322258: expected 4 fields, saw 5\\n'\n"
     ]
    }
   ],
   "source": [
    "pageview = pd.read_csv(\"./data/pageview.csv\", error_bad_lines=False)\n",
    "census = pd.read_csv(\"./data/census_data.csv\")\n",
    "content = pd.read_csv(\"./data/content.csv\")"
   ]
  },
  {
   "cell_type": "code",
   "execution_count": 9,
   "metadata": {},
   "outputs": [],
   "source": [
    "class Recommender(AbstractRecommender):\n",
    "    def __init__(self, dataset):\n",
    "        self.dataset = dataset\n",
    "        \n",
    "    def observe(self, user_interaction):\n",
    "        pass\n",
    "        \n",
    "    def most_recent_url(self, data, user_id):\n",
    "        subset = data[data[\"USER_ID\"] == user_id]\n",
    "        url = subset.sort_values(\"ROW_NUM\", ascending=True).iloc[0][\"URL_PATH\"]\n",
    "        return url\n",
    "\n",
    "    def recommend(self, user_id, n):\n",
    "        recent_url = self.most_recent_url(self.dataset, user_id)\n",
    "        if (recent_url == \"/en\") or  (recent_url == \"/es\"):\n",
    "            return self.dataset[\"URL_PATH\"].value_counts().nlargest(n + 1)[1:].index.tolist()\n",
    "        else:\n",
    "            pass"
   ]
  },
  {
   "cell_type": "code",
   "execution_count": 10,
   "metadata": {},
   "outputs": [],
   "source": [
    "rec = Recommender(pageview)"
   ]
  },
  {
   "cell_type": "code",
   "execution_count": 12,
   "metadata": {},
   "outputs": [
    {
     "data": {
      "text/plain": [
       "['/en/friends-feelings/empowering-your-child/building-on-strengths/types-of-strengths-in-kids',\n",
       " '/en/tools/through-your-childs-eyes/player',\n",
       " '/en/school-learning/special-services/504-plan/the-difference-between-ieps-and-504-plans',\n",
       " '/en/learning-attention-issues/signs-symptoms/developmental-milestones/developmental-milestones-for-typical-2-year-olds',\n",
       " '/en/learning-attention-issues/child-learning-disabilities/add-adhd/adhd-and-emotions-what-you-need-to-know']"
      ]
     },
     "execution_count": 12,
     "metadata": {},
     "output_type": "execute_result"
    }
   ],
   "source": [
    "rec.recommend('5150228a-ad62-4a14-9169-79e7979e1a5e_ae8f9f75-df4e-4bbd-82f9-a73cea7fded9', 5)"
   ]
  },
  {
   "cell_type": "code",
   "execution_count": null,
   "metadata": {},
   "outputs": [],
   "source": []
  }
 ],
 "metadata": {
  "kernelspec": {
   "display_name": "Python [conda env:root] *",
   "language": "python",
   "name": "conda-root-py"
  },
  "language_info": {
   "codemirror_mode": {
    "name": "ipython",
    "version": 3
   },
   "file_extension": ".py",
   "mimetype": "text/x-python",
   "name": "python",
   "nbconvert_exporter": "python",
   "pygments_lexer": "ipython3",
   "version": "3.6.10"
  }
 },
 "nbformat": 4,
 "nbformat_minor": 4
}
