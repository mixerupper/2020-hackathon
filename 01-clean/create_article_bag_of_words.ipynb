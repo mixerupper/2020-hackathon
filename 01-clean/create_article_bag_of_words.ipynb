{
 "cells": [
  {
   "cell_type": "code",
   "execution_count": 143,
   "metadata": {},
   "outputs": [],
   "source": [
    "import numpy as np\n",
    "import pandas as pd\n",
    "import matplotlib.pyplot as plt\n",
    "import math as math\n",
    "import sklearn\n",
    "import os\n",
    "import sys\n",
    "import nltk\n",
    "from nltk.tokenize import RegexpTokenizer\n",
    "from nltk.stem import WordNetLemmatizer,PorterStemmer\n",
    "from nltk.corpus import stopwords\n",
    "import re\n",
    "import tqdm\n",
    "\n",
    "from sklearn.preprocessing import *\n",
    "from sklearn.impute import SimpleImputer\n",
    "\n",
    "import fuzzywuzzy\n",
    "from fuzzywuzzy import process\n",
    "\n",
    "nb_dir = os.path.split(os.getcwd())[0]\n",
    "if nb_dir not in sys.path:\n",
    "    sys.path.append(nb_dir)\n",
    "from header import *"
   ]
  },
  {
   "cell_type": "code",
   "execution_count": 2,
   "metadata": {},
   "outputs": [],
   "source": [
    "data_root = initialize_data_root(\"AY\")"
   ]
  },
  {
   "cell_type": "code",
   "execution_count": 154,
   "metadata": {},
   "outputs": [],
   "source": [
    "raw_content = pd.read_csv(data_root+'content.csv', dtype = str)"
   ]
  },
  {
   "cell_type": "code",
   "execution_count": 155,
   "metadata": {},
   "outputs": [],
   "source": [
    "content = raw_content.fillna('')"
   ]
  },
  {
   "cell_type": "code",
   "execution_count": 156,
   "metadata": {},
   "outputs": [
    {
     "data": {
      "text/plain": [
       "2699"
      ]
     },
     "execution_count": 156,
     "metadata": {},
     "output_type": "execute_result"
    }
   ],
   "source": [
    "len(content)"
   ]
  },
  {
   "cell_type": "code",
   "execution_count": 157,
   "metadata": {},
   "outputs": [],
   "source": [
    "lemmatizer = WordNetLemmatizer()\n",
    "stemmer = PorterStemmer() \n",
    "i=1\n",
    "\n",
    "def preprocess(sentence):\n",
    "    sentence=str(sentence)\n",
    "    sentence = sentence.lower()\n",
    "    sentence=sentence.replace('{html}',\"\") \n",
    "    cleanr = re.compile('<.*?>')\n",
    "    cleantext = re.sub(cleanr, '', sentence)\n",
    "    rem_url=re.sub(r'http\\S+', '',cleantext)\n",
    "    rem_num = re.sub('[0-9]+', '', rem_url)\n",
    "    tokenizer = RegexpTokenizer(r'\\w+')\n",
    "    tokens = tokenizer.tokenize(rem_num)  \n",
    "    filtered_words = [w for w in tokens if len(w) > 2 if not w in stopwords.words('english')]\n",
    "    stem_words=[stemmer.stem(w) for w in filtered_words]\n",
    "    lemma_words=[lemmatizer.lemmatize(w) for w in stem_words]\n",
    "    return \" \".join(filtered_words)\n",
    "\n",
    "content['article_content']=content['article_content'].map(lambda s:preprocess(s)) "
   ]
  },
  {
   "cell_type": "code",
   "execution_count": 158,
   "metadata": {},
   "outputs": [
    {
     "data": {
      "text/plain": [
       "0       None\n",
       "1       None\n",
       "2       None\n",
       "3       None\n",
       "4       None\n",
       "        ... \n",
       "2694    None\n",
       "2695    None\n",
       "2696    None\n",
       "2697    None\n",
       "2698    None\n",
       "Length: 2699, dtype: object"
      ]
     },
     "execution_count": 158,
     "metadata": {},
     "output_type": "execute_result"
    }
   ],
   "source": [
    "topic_counts = {}\n",
    "\n",
    "def process_article(article):\n",
    "    words = set(article.split(' '))\n",
    "    for word in words:\n",
    "        if word in topic_counts:\n",
    "            topic_counts[word] += 1\n",
    "        else:\n",
    "            topic_counts[word] = 1 \n",
    "            \n",
    "content.apply(lambda x:process_article(x['article_content']), axis = 1)"
   ]
  },
  {
   "cell_type": "code",
   "execution_count": 159,
   "metadata": {},
   "outputs": [
    {
     "data": {
      "text/plain": [
       "2699"
      ]
     },
     "execution_count": 159,
     "metadata": {},
     "output_type": "execute_result"
    }
   ],
   "source": [
    "len(content)"
   ]
  },
  {
   "cell_type": "code",
   "execution_count": 160,
   "metadata": {},
   "outputs": [],
   "source": [
    "filtered_topic_counts = topic_counts.copy()\n",
    "\n",
    "for i in topic_counts:\n",
    "    if filtered_topic_counts[i] > 30 and filtered_topic_counts[i] < 2500:\n",
    "        filtered_topic_counts.pop(i)"
   ]
  },
  {
   "cell_type": "code",
   "execution_count": 161,
   "metadata": {},
   "outputs": [
    {
     "data": {
      "text/plain": [
       "19656"
      ]
     },
     "execution_count": 161,
     "metadata": {},
     "output_type": "execute_result"
    }
   ],
   "source": [
    "bag = list(filtered_topic_counts.keys())\n",
    "len(bag)"
   ]
  },
  {
   "cell_type": "code",
   "execution_count": 162,
   "metadata": {},
   "outputs": [
    {
     "data": {
      "text/plain": [
       "0       raising child dyslexia stir lot emotions may l...\n",
       "1       raising child dyslexia stir lot emotions may l...\n",
       "2       comes learning attention issues awareness ever...\n",
       "3       october learning disabilities adhd dyslexia aw...\n",
       "4       adhd adhd common condition impacts focus self ...\n",
       "                              ...                        \n",
       "2694    good relationship families schools top factor ...\n",
       "2695    whenever ask veteran educators english languag...\n",
       "2696    ever asked students read text find understandi...\n",
       "2697    know importance collaborative partnerships fam...\n",
       "2698    phonics blending phonics blending way students...\n",
       "Name: article_content, Length: 2699, dtype: object"
      ]
     },
     "execution_count": 162,
     "metadata": {},
     "output_type": "execute_result"
    }
   ],
   "source": [
    "content['article_content']"
   ]
  },
  {
   "cell_type": "code",
   "execution_count": 163,
   "metadata": {},
   "outputs": [],
   "source": [
    "def bag_of_words(data, bag):\n",
    "    topic_occurence = words_in_texts(bag, data['article_content'])\n",
    "    \n",
    "    new_data = pd.DataFrame(data = topic_occurence, columns = bag)\n",
    "    new_data.insert(0, 'url', data['url'])\n",
    "        \n",
    "    return new_data\n",
    "\n",
    "def words_in_texts(words, texts):\n",
    "    '''\n",
    "    Args:\n",
    "        words (list-like): words to find\n",
    "        texts (Series): strings to search in\n",
    "    \n",
    "    Returns:\n",
    "        NumPy array of 0s and 1s with shape (n, p) where n is the\n",
    "        number of texts and p is the number of words.\n",
    "    '''\n",
    "    indicator_array = np.array([texts.str.contains(word) for word in words]).T\n",
    "    return indicator_array.astype('int32')"
   ]
  },
  {
   "cell_type": "code",
   "execution_count": 164,
   "metadata": {},
   "outputs": [
    {
     "data": {
      "text/plain": [
       "0       raising child dyslexia stir lot emotions may l...\n",
       "1       raising child dyslexia stir lot emotions may l...\n",
       "2       comes learning attention issues awareness ever...\n",
       "3       october learning disabilities adhd dyslexia aw...\n",
       "4       adhd adhd common condition impacts focus self ...\n",
       "                              ...                        \n",
       "2694    good relationship families schools top factor ...\n",
       "2695    whenever ask veteran educators english languag...\n",
       "2696    ever asked students read text find understandi...\n",
       "2697    know importance collaborative partnerships fam...\n",
       "2698    phonics blending phonics blending way students...\n",
       "Name: article_content, Length: 2699, dtype: object"
      ]
     },
     "execution_count": 164,
     "metadata": {},
     "output_type": "execute_result"
    }
   ],
   "source": [
    "content['article_content']"
   ]
  },
  {
   "cell_type": "code",
   "execution_count": 166,
   "metadata": {
    "scrolled": true
   },
   "outputs": [],
   "source": [
    "bow_content = words_in_texts(bag, content['article_content'])"
   ]
  },
  {
   "cell_type": "code",
   "execution_count": 174,
   "metadata": {},
   "outputs": [
    {
     "data": {
      "text/plain": [
       "(2699, 7)"
      ]
     },
     "execution_count": 174,
     "metadata": {},
     "output_type": "execute_result"
    }
   ],
   "source": [
    "content.shape"
   ]
  },
  {
   "cell_type": "code",
   "execution_count": 178,
   "metadata": {},
   "outputs": [],
   "source": [
    "bow_content_df = pd.DataFrame(data = bow_content, columns = bag)\n",
    "bow_content_df.insert(0, 'url', content['url'])"
   ]
  },
  {
   "cell_type": "code",
   "execution_count": 179,
   "metadata": {},
   "outputs": [
    {
     "data": {
      "text/html": [
       "<div>\n",
       "<style scoped>\n",
       "    .dataframe tbody tr th:only-of-type {\n",
       "        vertical-align: middle;\n",
       "    }\n",
       "\n",
       "    .dataframe tbody tr th {\n",
       "        vertical-align: top;\n",
       "    }\n",
       "\n",
       "    .dataframe thead th {\n",
       "        text-align: right;\n",
       "    }\n",
       "</style>\n",
       "<table border=\"1\" class=\"dataframe\">\n",
       "  <thead>\n",
       "    <tr style=\"text-align: right;\">\n",
       "      <th></th>\n",
       "      <th>url</th>\n",
       "      <th>numbershas</th>\n",
       "      <th>occasion</th>\n",
       "      <th>reaches</th>\n",
       "      <th>infants</th>\n",
       "      <th>idiomshas</th>\n",
       "      <th>sell</th>\n",
       "      <th>levelhas</th>\n",
       "      <th>fives</th>\n",
       "      <th>blurry</th>\n",
       "      <th>...</th>\n",
       "      <th>layla</th>\n",
       "      <th>morgan</th>\n",
       "      <th>sssiiittt</th>\n",
       "      <th>decodeable</th>\n",
       "      <th>osborn</th>\n",
       "      <th>jjjaamm</th>\n",
       "      <th>armbruster</th>\n",
       "      <th>lehr</th>\n",
       "      <th>phinder</th>\n",
       "      <th>adler</th>\n",
       "    </tr>\n",
       "  </thead>\n",
       "  <tbody>\n",
       "    <tr>\n",
       "      <th>0</th>\n",
       "      <td>/g26ftzdilh/bfunderstanding-dyslexia</td>\n",
       "      <td>1</td>\n",
       "      <td>1</td>\n",
       "      <td>1</td>\n",
       "      <td>1</td>\n",
       "      <td>1</td>\n",
       "      <td>1</td>\n",
       "      <td>1</td>\n",
       "      <td>1</td>\n",
       "      <td>1</td>\n",
       "      <td>...</td>\n",
       "      <td>0</td>\n",
       "      <td>0</td>\n",
       "      <td>0</td>\n",
       "      <td>0</td>\n",
       "      <td>0</td>\n",
       "      <td>0</td>\n",
       "      <td>0</td>\n",
       "      <td>0</td>\n",
       "      <td>0</td>\n",
       "      <td>0</td>\n",
       "    </tr>\n",
       "    <tr>\n",
       "      <th>1</th>\n",
       "      <td>/g26ftzdilh/blazingly-fast-understanding-dyslexia</td>\n",
       "      <td>1</td>\n",
       "      <td>1</td>\n",
       "      <td>1</td>\n",
       "      <td>1</td>\n",
       "      <td>1</td>\n",
       "      <td>1</td>\n",
       "      <td>1</td>\n",
       "      <td>1</td>\n",
       "      <td>1</td>\n",
       "      <td>...</td>\n",
       "      <td>0</td>\n",
       "      <td>0</td>\n",
       "      <td>0</td>\n",
       "      <td>0</td>\n",
       "      <td>0</td>\n",
       "      <td>0</td>\n",
       "      <td>0</td>\n",
       "      <td>0</td>\n",
       "      <td>0</td>\n",
       "      <td>0</td>\n",
       "    </tr>\n",
       "    <tr>\n",
       "      <th>2</th>\n",
       "      <td>/learning-attention-issues/getting-started/wha...</td>\n",
       "      <td>0</td>\n",
       "      <td>0</td>\n",
       "      <td>0</td>\n",
       "      <td>0</td>\n",
       "      <td>0</td>\n",
       "      <td>0</td>\n",
       "      <td>0</td>\n",
       "      <td>0</td>\n",
       "      <td>0</td>\n",
       "      <td>...</td>\n",
       "      <td>0</td>\n",
       "      <td>0</td>\n",
       "      <td>0</td>\n",
       "      <td>0</td>\n",
       "      <td>0</td>\n",
       "      <td>0</td>\n",
       "      <td>0</td>\n",
       "      <td>0</td>\n",
       "      <td>0</td>\n",
       "      <td>0</td>\n",
       "    </tr>\n",
       "    <tr>\n",
       "      <th>3</th>\n",
       "      <td>/learning-attention-issues/getting-started/wha...</td>\n",
       "      <td>0</td>\n",
       "      <td>0</td>\n",
       "      <td>0</td>\n",
       "      <td>0</td>\n",
       "      <td>0</td>\n",
       "      <td>0</td>\n",
       "      <td>0</td>\n",
       "      <td>0</td>\n",
       "      <td>0</td>\n",
       "      <td>...</td>\n",
       "      <td>0</td>\n",
       "      <td>0</td>\n",
       "      <td>0</td>\n",
       "      <td>0</td>\n",
       "      <td>0</td>\n",
       "      <td>0</td>\n",
       "      <td>0</td>\n",
       "      <td>0</td>\n",
       "      <td>0</td>\n",
       "      <td>0</td>\n",
       "    </tr>\n",
       "    <tr>\n",
       "      <th>4</th>\n",
       "      <td>/learning-attention-issues/child-learning-disa...</td>\n",
       "      <td>0</td>\n",
       "      <td>0</td>\n",
       "      <td>0</td>\n",
       "      <td>0</td>\n",
       "      <td>0</td>\n",
       "      <td>0</td>\n",
       "      <td>0</td>\n",
       "      <td>0</td>\n",
       "      <td>0</td>\n",
       "      <td>...</td>\n",
       "      <td>0</td>\n",
       "      <td>0</td>\n",
       "      <td>0</td>\n",
       "      <td>0</td>\n",
       "      <td>0</td>\n",
       "      <td>0</td>\n",
       "      <td>0</td>\n",
       "      <td>0</td>\n",
       "      <td>0</td>\n",
       "      <td>0</td>\n",
       "    </tr>\n",
       "    <tr>\n",
       "      <th>...</th>\n",
       "      <td>...</td>\n",
       "      <td>...</td>\n",
       "      <td>...</td>\n",
       "      <td>...</td>\n",
       "      <td>...</td>\n",
       "      <td>...</td>\n",
       "      <td>...</td>\n",
       "      <td>...</td>\n",
       "      <td>...</td>\n",
       "      <td>...</td>\n",
       "      <td>...</td>\n",
       "      <td>...</td>\n",
       "      <td>...</td>\n",
       "      <td>...</td>\n",
       "      <td>...</td>\n",
       "      <td>...</td>\n",
       "      <td>...</td>\n",
       "      <td>...</td>\n",
       "      <td>...</td>\n",
       "      <td>...</td>\n",
       "      <td>...</td>\n",
       "    </tr>\n",
       "    <tr>\n",
       "      <th>2694</th>\n",
       "      <td>/school-learning/for-educators/partnering-with...</td>\n",
       "      <td>0</td>\n",
       "      <td>0</td>\n",
       "      <td>0</td>\n",
       "      <td>0</td>\n",
       "      <td>0</td>\n",
       "      <td>0</td>\n",
       "      <td>0</td>\n",
       "      <td>0</td>\n",
       "      <td>0</td>\n",
       "      <td>...</td>\n",
       "      <td>0</td>\n",
       "      <td>0</td>\n",
       "      <td>0</td>\n",
       "      <td>0</td>\n",
       "      <td>0</td>\n",
       "      <td>0</td>\n",
       "      <td>0</td>\n",
       "      <td>0</td>\n",
       "      <td>0</td>\n",
       "      <td>0</td>\n",
       "    </tr>\n",
       "    <tr>\n",
       "      <th>2695</th>\n",
       "      <td>/school-learning/for-educators/partnering-with...</td>\n",
       "      <td>0</td>\n",
       "      <td>0</td>\n",
       "      <td>0</td>\n",
       "      <td>0</td>\n",
       "      <td>0</td>\n",
       "      <td>0</td>\n",
       "      <td>0</td>\n",
       "      <td>0</td>\n",
       "      <td>0</td>\n",
       "      <td>...</td>\n",
       "      <td>0</td>\n",
       "      <td>0</td>\n",
       "      <td>0</td>\n",
       "      <td>0</td>\n",
       "      <td>0</td>\n",
       "      <td>0</td>\n",
       "      <td>0</td>\n",
       "      <td>0</td>\n",
       "      <td>0</td>\n",
       "      <td>0</td>\n",
       "    </tr>\n",
       "    <tr>\n",
       "      <th>2696</th>\n",
       "      <td>/school-learning/for-educators/teaching-strate...</td>\n",
       "      <td>0</td>\n",
       "      <td>0</td>\n",
       "      <td>0</td>\n",
       "      <td>0</td>\n",
       "      <td>0</td>\n",
       "      <td>0</td>\n",
       "      <td>0</td>\n",
       "      <td>0</td>\n",
       "      <td>0</td>\n",
       "      <td>...</td>\n",
       "      <td>0</td>\n",
       "      <td>0</td>\n",
       "      <td>0</td>\n",
       "      <td>0</td>\n",
       "      <td>0</td>\n",
       "      <td>0</td>\n",
       "      <td>0</td>\n",
       "      <td>0</td>\n",
       "      <td>0</td>\n",
       "      <td>0</td>\n",
       "    </tr>\n",
       "    <tr>\n",
       "      <th>2697</th>\n",
       "      <td>/school-learning/for-educators/partnering-with...</td>\n",
       "      <td>0</td>\n",
       "      <td>0</td>\n",
       "      <td>0</td>\n",
       "      <td>0</td>\n",
       "      <td>0</td>\n",
       "      <td>0</td>\n",
       "      <td>0</td>\n",
       "      <td>0</td>\n",
       "      <td>0</td>\n",
       "      <td>...</td>\n",
       "      <td>1</td>\n",
       "      <td>1</td>\n",
       "      <td>0</td>\n",
       "      <td>0</td>\n",
       "      <td>0</td>\n",
       "      <td>0</td>\n",
       "      <td>0</td>\n",
       "      <td>0</td>\n",
       "      <td>0</td>\n",
       "      <td>0</td>\n",
       "    </tr>\n",
       "    <tr>\n",
       "      <th>2698</th>\n",
       "      <td>/school-learning/for-educators/teaching-strate...</td>\n",
       "      <td>0</td>\n",
       "      <td>0</td>\n",
       "      <td>0</td>\n",
       "      <td>0</td>\n",
       "      <td>0</td>\n",
       "      <td>0</td>\n",
       "      <td>0</td>\n",
       "      <td>0</td>\n",
       "      <td>0</td>\n",
       "      <td>...</td>\n",
       "      <td>0</td>\n",
       "      <td>0</td>\n",
       "      <td>1</td>\n",
       "      <td>1</td>\n",
       "      <td>1</td>\n",
       "      <td>1</td>\n",
       "      <td>1</td>\n",
       "      <td>1</td>\n",
       "      <td>1</td>\n",
       "      <td>1</td>\n",
       "    </tr>\n",
       "  </tbody>\n",
       "</table>\n",
       "<p>2699 rows × 19657 columns</p>\n",
       "</div>"
      ],
      "text/plain": [
       "                                                    url  numbershas  occasion  \\\n",
       "0                  /g26ftzdilh/bfunderstanding-dyslexia           1         1   \n",
       "1     /g26ftzdilh/blazingly-fast-understanding-dyslexia           1         1   \n",
       "2     /learning-attention-issues/getting-started/wha...           0         0   \n",
       "3     /learning-attention-issues/getting-started/wha...           0         0   \n",
       "4     /learning-attention-issues/child-learning-disa...           0         0   \n",
       "...                                                 ...         ...       ...   \n",
       "2694  /school-learning/for-educators/partnering-with...           0         0   \n",
       "2695  /school-learning/for-educators/partnering-with...           0         0   \n",
       "2696  /school-learning/for-educators/teaching-strate...           0         0   \n",
       "2697  /school-learning/for-educators/partnering-with...           0         0   \n",
       "2698  /school-learning/for-educators/teaching-strate...           0         0   \n",
       "\n",
       "      reaches  infants  idiomshas  sell  levelhas  fives  blurry  ...  layla  \\\n",
       "0           1        1          1     1         1      1       1  ...      0   \n",
       "1           1        1          1     1         1      1       1  ...      0   \n",
       "2           0        0          0     0         0      0       0  ...      0   \n",
       "3           0        0          0     0         0      0       0  ...      0   \n",
       "4           0        0          0     0         0      0       0  ...      0   \n",
       "...       ...      ...        ...   ...       ...    ...     ...  ...    ...   \n",
       "2694        0        0          0     0         0      0       0  ...      0   \n",
       "2695        0        0          0     0         0      0       0  ...      0   \n",
       "2696        0        0          0     0         0      0       0  ...      0   \n",
       "2697        0        0          0     0         0      0       0  ...      1   \n",
       "2698        0        0          0     0         0      0       0  ...      0   \n",
       "\n",
       "      morgan  sssiiittt  decodeable  osborn  jjjaamm  armbruster  lehr  \\\n",
       "0          0          0           0       0        0           0     0   \n",
       "1          0          0           0       0        0           0     0   \n",
       "2          0          0           0       0        0           0     0   \n",
       "3          0          0           0       0        0           0     0   \n",
       "4          0          0           0       0        0           0     0   \n",
       "...      ...        ...         ...     ...      ...         ...   ...   \n",
       "2694       0          0           0       0        0           0     0   \n",
       "2695       0          0           0       0        0           0     0   \n",
       "2696       0          0           0       0        0           0     0   \n",
       "2697       1          0           0       0        0           0     0   \n",
       "2698       0          1           1       1        1           1     1   \n",
       "\n",
       "      phinder  adler  \n",
       "0           0      0  \n",
       "1           0      0  \n",
       "2           0      0  \n",
       "3           0      0  \n",
       "4           0      0  \n",
       "...       ...    ...  \n",
       "2694        0      0  \n",
       "2695        0      0  \n",
       "2696        0      0  \n",
       "2697        0      0  \n",
       "2698        1      1  \n",
       "\n",
       "[2699 rows x 19657 columns]"
      ]
     },
     "execution_count": 179,
     "metadata": {},
     "output_type": "execute_result"
    }
   ],
   "source": [
    "bow_content_df"
   ]
  },
  {
   "cell_type": "code",
   "execution_count": 212,
   "metadata": {},
   "outputs": [
    {
     "data": {
      "text/plain": [
       "0.49780809060272635"
      ]
     },
     "execution_count": 212,
     "metadata": {},
     "output_type": "execute_result"
    }
   ],
   "source": [
    "def cosine_similar(x,y):\n",
    "    x_meta = x.drop(['url'])\n",
    "    y_meta = y.drop(['url'])\n",
    "    \n",
    "    return(x_meta@y_meta/((x_meta@x_meta)**0.5*(y_meta@y_meta)**0.5))\n",
    "    \n",
    "cosine_similar(bow_content_df.iloc[1,:], bow_content_df.iloc[10,:])"
   ]
  },
  {
   "cell_type": "code",
   "execution_count": 228,
   "metadata": {},
   "outputs": [],
   "source": [
    "def find_most_similar_article(url, n):\n",
    "    article = bow_content_df.loc[bow_content_df['url']==url,:]\n",
    "    \n",
    "    others = bow_content_df.loc[bow_content_df['url']!=url,:]\n",
    "        \n",
    "    similarities = others.apply(lambda x:cosine_similar(x,article.iloc[0,:]), axis = 1)\n",
    "    \n",
    "    top = similarities.nlargest(n).index\n",
    "    return others.loc[top, \"url\"]\n",
    "    \n",
    "    \n",
    "    # return(similarities)"
   ]
  },
  {
   "cell_type": "code",
   "execution_count": 225,
   "metadata": {},
   "outputs": [
    {
     "data": {
      "text/plain": [
       "0.3512649950880297"
      ]
     },
     "execution_count": 225,
     "metadata": {},
     "output_type": "execute_result"
    }
   ],
   "source": [
    "cosine_similar(others.iloc[2,:], article.iloc[0,:])"
   ]
  },
  {
   "cell_type": "code",
   "execution_count": 229,
   "metadata": {},
   "outputs": [
    {
     "data": {
      "text/plain": [
       "1    /g26ftzdilh/blazingly-fast-understanding-dyslexia\n",
       "5    /learning-attention-issues/child-learning-disa...\n",
       "6    /learning-attention-issues/child-learning-disa...\n",
       "Name: url, dtype: object"
      ]
     },
     "execution_count": 229,
     "metadata": {},
     "output_type": "execute_result"
    }
   ],
   "source": [
    "find_most_similar_article('/g26ftzdilh/bfunderstanding-dyslexia',3)"
   ]
  },
  {
   "cell_type": "code",
   "execution_count": 180,
   "metadata": {},
   "outputs": [],
   "source": [
    "bow_content_df.to_csv(data_root+'article_bag_of_words.csv', index = False)"
   ]
  }
 ],
 "metadata": {
  "kernelspec": {
   "display_name": "Python 3",
   "language": "python",
   "name": "python3"
  },
  "language_info": {
   "codemirror_mode": {
    "name": "ipython",
    "version": 3
   },
   "file_extension": ".py",
   "mimetype": "text/x-python",
   "name": "python",
   "nbconvert_exporter": "python",
   "pygments_lexer": "ipython3",
   "version": "3.7.3"
  }
 },
 "nbformat": 4,
 "nbformat_minor": 2
}
